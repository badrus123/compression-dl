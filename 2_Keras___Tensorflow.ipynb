{
  "nbformat": 4,
  "nbformat_minor": 0,
  "metadata": {
    "accelerator": "GPU",
    "colab": {
      "name": "2. Keras _ Tensorflow.ipynb",
      "provenance": [],
      "collapsed_sections": [],
      "toc_visible": true,
      "include_colab_link": true
    },
    "kernelspec": {
      "name": "python3",
      "display_name": "Python 3"
    },
    "language_info": {
      "codemirror_mode": {
        "name": "ipython",
        "version": 3
      },
      "file_extension": ".py",
      "mimetype": "text/x-python",
      "name": "python",
      "nbconvert_exporter": "python",
      "pygments_lexer": "ipython3",
      "version": "3.7.3"
    }
  },
  "cells": [
    {
      "cell_type": "markdown",
      "metadata": {
        "id": "view-in-github",
        "colab_type": "text"
      },
      "source": [
        "<a href=\"https://colab.research.google.com/github/badrus123/compression-dl/blob/master/2_Keras___Tensorflow.ipynb\" target=\"_parent\"><img src=\"https://colab.research.google.com/assets/colab-badge.svg\" alt=\"Open In Colab\"/></a>"
      ]
    },
    {
      "cell_type": "markdown",
      "metadata": {
        "id": "O6DhLZnOZq1j",
        "colab_type": "text"
      },
      "source": [
        "![alt text](https://anvaqta.id/headerai.jpg)"
      ]
    },
    {
      "cell_type": "markdown",
      "metadata": {
        "colab_type": "text",
        "id": "nmBqvRHNuRIt"
      },
      "source": [
        "# Perkenalan Library"
      ]
    },
    {
      "cell_type": "markdown",
      "metadata": {
        "colab_type": "text",
        "id": "tvTrxlt8oQ6i"
      },
      "source": [
        "## Tensorflow\n",
        "\n",
        "<img src=\"https://www.gstatic.com/devrel-devsite/va3a0eb1ff00a004a87e2f93101f27917d794beecfd23556fc6d8627bba2ff3cf/tensorflow/images/lockup.svg\" alt=\"tensorflow\" width=\"300px\"/>\n",
        "\n",
        "TensorFlow (https://www.tensorflow.org/) adalah *Deep Learning Library*, yang dikembangkan oleh Google Brain Team di dalam organisasi riset Google Machine Learning Intelligence, untuk keperluan melakukan pembelajaran mesin dan riset Jaringan Saraf tiruan.\n",
        "\n",
        "TensorFlow menggabungkan berbagai teknik optimasi komputasional aljabar untuk memudahkan perhitungan berbagai ekspresi matematika yang akan sulit untuk dihitung.\n",
        "\n",
        "**Fitur Utama Tensorflow*\n",
        "\n",
        "* Mendefinisikan, mengoptimalkan, dan menghitung secara efisien ekspresi matematika yang melibatkan array multi-dimensi (tensor).\n",
        "* Dukungan pemrograman dari jaringan saraf dalam dan teknik pembelajaran mesin.\n",
        "* Penggunaan komputasi GPU dan optimalisasi memori secara otomatis.\n",
        "* Skabilitas tinggi komputasi di seluruh mesin dan set data besar.\n",
        "\n",
        "TensorFlow tersedia dengan dukungan Python dan C ++, tetapi Python API lebih didukung dan lebih mudah untuk dipelajari.\n",
        "\n",
        "---"
      ]
    },
    {
      "cell_type": "markdown",
      "metadata": {
        "colab_type": "text",
        "id": "ww2VFOjloQ75"
      },
      "source": [
        "## Keras\n",
        "\n",
        "<img src=\"https://s3.amazonaws.com/keras.io/img/keras-logo-2018-large-1200.png\" alt=\"keras\" width=\"300px\"/>\n",
        "\n",
        "Keras (https://keras.io/) adalah library *Deep Learning Library* yang sangat modular dan minimalis, yang ditulis dengan Python dan mampu berjalan di atas TensorFlow atau Theano. Library ini dikembangkan dengan fokus pada memungkinkan eksperimen cepat.\n",
        "\n",
        "Pada mulanya Keras dikembangkan untuk membantu pengguna agar dapat dengan mudah menggunakan *Deep Learning Library* Theano dan Tensorflow yang pada saat itu implementasinya sangat teknis dan rumit. \n",
        "\n",
        "Sejak Tensorflow versi 1.5, Keras diadopsi oleh Google dan sejak saat itu API yang telah dibangun sudah termasuk di dalam distribusi Tensorflow.\n",
        "\n",
        "---"
      ]
    },
    {
      "cell_type": "markdown",
      "metadata": {
        "colab_type": "text",
        "id": "Kdq4txp6In1H"
      },
      "source": [
        "---\n",
        "# Dataset MNIST\n",
        "\n",
        "Sekarang kita akan membangun model Jaringan Saraf Tiruan menggunakan dataset paling populer digunakan saat belajar mengenai Pembelajaran Mesin: Dataset angka tulisan tangan MNIST\n",
        "\n",
        "Jangan lupa, pastikan Colab ini berjalan dengan GPU\n"
      ]
    },
    {
      "cell_type": "code",
      "metadata": {
        "colab_type": "code",
        "id": "GrnacNg8In1K",
        "colab": {}
      },
      "source": [
        "import numpy as np\n",
        "import matplotlib.pyplot as plt\n",
        "%matplotlib inline\n",
        "\n",
        "np.set_printoptions(precision=7)"
      ],
      "execution_count": 0,
      "outputs": []
    },
    {
      "cell_type": "markdown",
      "metadata": {
        "colab_type": "text",
        "id": "tz9rpwvIIn1T"
      },
      "source": [
        "---\n",
        "## Load Dataset MNIST\n",
        "\n",
        "Kelebihan menggunakan library seperti Keras dan TensorFlow adalah mereka sudah menyediakan banyak dataset contoh yang bisa langsung kita unduh dan gunakan\n",
        "\n",
        "Link Dataset:\n",
        "* [keras](https://keras.io/datasets/)\n",
        "* [tf.keras](https://www.tensorflow.org/api_docs/python/tf/keras/datasets)\n",
        "* [tf.dataset](https://www.tensorflow.org/datasets/datasets)\n",
        "\n",
        "Untuk itu, di sini mari kita unduh dataset mnist dari `tf.keras` sebagai berikut\n",
        "\n"
      ]
    },
    {
      "cell_type": "code",
      "metadata": {
        "id": "Bc0T_Fv1m2ER",
        "colab_type": "code",
        "outputId": "a0c4975c-647a-4fdd-9206-5fed93d3dd48",
        "colab": {
          "base_uri": "https://localhost:8080/",
          "height": 717
        }
      },
      "source": [
        "!pip install tensorflow-gpu==2.0.0"
      ],
      "execution_count": 0,
      "outputs": [
        {
          "output_type": "stream",
          "text": [
            "Collecting tensorflow-gpu==2.0.0\n",
            "\u001b[?25l  Downloading https://files.pythonhosted.org/packages/25/44/47f0722aea081697143fbcf5d2aa60d1aee4aaacb5869aee2b568974777b/tensorflow_gpu-2.0.0-cp36-cp36m-manylinux2010_x86_64.whl (380.8MB)\n",
            "\u001b[K     |████████████████████████████████| 380.8MB 46kB/s \n",
            "\u001b[?25hRequirement already satisfied: grpcio>=1.8.6 in /usr/local/lib/python3.6/dist-packages (from tensorflow-gpu==2.0.0) (1.15.0)\n",
            "Requirement already satisfied: wheel>=0.26 in /usr/local/lib/python3.6/dist-packages (from tensorflow-gpu==2.0.0) (0.33.6)\n",
            "Requirement already satisfied: gast==0.2.2 in /usr/local/lib/python3.6/dist-packages (from tensorflow-gpu==2.0.0) (0.2.2)\n",
            "Requirement already satisfied: numpy<2.0,>=1.16.0 in /usr/local/lib/python3.6/dist-packages (from tensorflow-gpu==2.0.0) (1.17.3)\n",
            "Requirement already satisfied: opt-einsum>=2.3.2 in /usr/local/lib/python3.6/dist-packages (from tensorflow-gpu==2.0.0) (3.1.0)\n",
            "Collecting tensorboard<2.1.0,>=2.0.0\n",
            "\u001b[?25l  Downloading https://files.pythonhosted.org/packages/9b/a6/e8ffa4e2ddb216449d34cfcb825ebb38206bee5c4553d69e7bc8bc2c5d64/tensorboard-2.0.0-py3-none-any.whl (3.8MB)\n",
            "\u001b[K     |████████████████████████████████| 3.8MB 32.2MB/s \n",
            "\u001b[?25hRequirement already satisfied: google-pasta>=0.1.6 in /usr/local/lib/python3.6/dist-packages (from tensorflow-gpu==2.0.0) (0.1.7)\n",
            "Requirement already satisfied: keras-preprocessing>=1.0.5 in /usr/local/lib/python3.6/dist-packages (from tensorflow-gpu==2.0.0) (1.1.0)\n",
            "Collecting tensorflow-estimator<2.1.0,>=2.0.0\n",
            "\u001b[?25l  Downloading https://files.pythonhosted.org/packages/fc/08/8b927337b7019c374719145d1dceba21a8bb909b93b1ad6f8fb7d22c1ca1/tensorflow_estimator-2.0.1-py2.py3-none-any.whl (449kB)\n",
            "\u001b[K     |████████████████████████████████| 450kB 47.6MB/s \n",
            "\u001b[?25hRequirement already satisfied: six>=1.10.0 in /usr/local/lib/python3.6/dist-packages (from tensorflow-gpu==2.0.0) (1.12.0)\n",
            "Requirement already satisfied: wrapt>=1.11.1 in /usr/local/lib/python3.6/dist-packages (from tensorflow-gpu==2.0.0) (1.11.2)\n",
            "Requirement already satisfied: astor>=0.6.0 in /usr/local/lib/python3.6/dist-packages (from tensorflow-gpu==2.0.0) (0.8.0)\n",
            "Requirement already satisfied: keras-applications>=1.0.8 in /usr/local/lib/python3.6/dist-packages (from tensorflow-gpu==2.0.0) (1.0.8)\n",
            "Requirement already satisfied: termcolor>=1.1.0 in /usr/local/lib/python3.6/dist-packages (from tensorflow-gpu==2.0.0) (1.1.0)\n",
            "Requirement already satisfied: absl-py>=0.7.0 in /usr/local/lib/python3.6/dist-packages (from tensorflow-gpu==2.0.0) (0.8.1)\n",
            "Requirement already satisfied: protobuf>=3.6.1 in /usr/local/lib/python3.6/dist-packages (from tensorflow-gpu==2.0.0) (3.10.0)\n",
            "Requirement already satisfied: werkzeug>=0.11.15 in /usr/local/lib/python3.6/dist-packages (from tensorboard<2.1.0,>=2.0.0->tensorflow-gpu==2.0.0) (0.16.0)\n",
            "Requirement already satisfied: setuptools>=41.0.0 in /usr/local/lib/python3.6/dist-packages (from tensorboard<2.1.0,>=2.0.0->tensorflow-gpu==2.0.0) (41.4.0)\n",
            "Requirement already satisfied: markdown>=2.6.8 in /usr/local/lib/python3.6/dist-packages (from tensorboard<2.1.0,>=2.0.0->tensorflow-gpu==2.0.0) (3.1.1)\n",
            "Requirement already satisfied: h5py in /usr/local/lib/python3.6/dist-packages (from keras-applications>=1.0.8->tensorflow-gpu==2.0.0) (2.8.0)\n",
            "\u001b[31mERROR: tensorflow 1.15.0 has requirement tensorboard<1.16.0,>=1.15.0, but you'll have tensorboard 2.0.0 which is incompatible.\u001b[0m\n",
            "\u001b[31mERROR: tensorflow 1.15.0 has requirement tensorflow-estimator==1.15.1, but you'll have tensorflow-estimator 2.0.1 which is incompatible.\u001b[0m\n",
            "Installing collected packages: tensorboard, tensorflow-estimator, tensorflow-gpu\n",
            "  Found existing installation: tensorboard 1.15.0\n",
            "    Uninstalling tensorboard-1.15.0:\n",
            "      Successfully uninstalled tensorboard-1.15.0\n",
            "  Found existing installation: tensorflow-estimator 1.15.1\n",
            "    Uninstalling tensorflow-estimator-1.15.1:\n",
            "      Successfully uninstalled tensorflow-estimator-1.15.1\n",
            "Successfully installed tensorboard-2.0.0 tensorflow-estimator-2.0.1 tensorflow-gpu-2.0.0\n"
          ],
          "name": "stdout"
        }
      ]
    },
    {
      "cell_type": "code",
      "metadata": {
        "id": "6-0vfJel7DBW",
        "colab_type": "code",
        "outputId": "44c00c5a-1ba3-46ef-b12d-8178b2807325",
        "colab": {
          "base_uri": "https://localhost:8080/",
          "height": 35
        }
      },
      "source": [
        "import tensorflow as tf\n",
        "tf.__version__"
      ],
      "execution_count": 0,
      "outputs": [
        {
          "output_type": "execute_result",
          "data": {
            "text/plain": [
              "'2.0.0'"
            ]
          },
          "metadata": {
            "tags": []
          },
          "execution_count": 3
        }
      ]
    },
    {
      "cell_type": "code",
      "metadata": {
        "colab_type": "code",
        "id": "e9lcWKk9In1U",
        "outputId": "d4028563-2985-4d45-85be-07b602124160",
        "colab": {
          "base_uri": "https://localhost:8080/",
          "height": 127
        }
      },
      "source": [
        "(X_train, y_train), (X_test, y_test) = tf.keras.datasets.mnist.load_data()\n",
        "\n",
        "print('X_train.shape =',X_train.shape)\n",
        "print('y_train.shape =',y_train.shape)\n",
        "print('X_test.shape  =',X_test.shape)\n",
        "print('y_test.shape  =',y_test.shape)"
      ],
      "execution_count": 0,
      "outputs": [
        {
          "output_type": "stream",
          "text": [
            "Downloading data from https://storage.googleapis.com/tensorflow/tf-keras-datasets/mnist.npz\n",
            "11493376/11490434 [==============================] - 0s 0us/step\n",
            "X_train.shape = (60000, 28, 28)\n",
            "y_train.shape = (60000,)\n",
            "X_test.shape  = (10000, 28, 28)\n",
            "y_test.shape  = (10000,)\n"
          ],
          "name": "stdout"
        }
      ]
    },
    {
      "cell_type": "markdown",
      "metadata": {
        "colab_type": "text",
        "id": "9rhC32AWIn1Z"
      },
      "source": [
        "---\n",
        "## Visualisasi Data MNIST\n",
        "Tampilkan 20 citra pertama dari data lain `X_train`"
      ]
    },
    {
      "cell_type": "code",
      "metadata": {
        "colab_type": "code",
        "id": "Zk4QVV87In1b",
        "outputId": "b1289c43-b9e7-46ce-a2c2-9bef834074f1",
        "colab": {
          "base_uri": "https://localhost:8080/",
          "height": 252
        }
      },
      "source": [
        "fig, ax = plt.subplots(2,10,figsize=(15,4.5))\n",
        "fig.subplots_adjust(hspace=0.1, wspace=0.1)\n",
        "for j in range(0,2):\n",
        "    for i in range(0, 10):\n",
        "        ax[j,i].imshow(X_train[i+j*10], cmap='gray')\n",
        "        ax[j,i].set_title(y_train[i+j*10])\n",
        "        ax[j,i].axis('off')\n",
        "plt.show()"
      ],
      "execution_count": 0,
      "outputs": [
        {
          "output_type": "display_data",
          "data": {
            "image/png": "[encoded data removed]",
            "text/plain": [
              "<Figure size 1080x324 with 20 Axes>"
            ]
          },
          "metadata": {
            "tags": []
          }
        }
      ]
    },
    {
      "cell_type": "markdown",
      "metadata": {
        "colab_type": "text",
        "id": "uhUO9G5MIn1g"
      },
      "source": [
        "---\n",
        "## Bagi Data Validasi\n",
        "Ambil 10,000 data terakhir dari data latih menjadi data Validasi di dalam matrix `X_val` dan `y_val`"
      ]
    },
    {
      "cell_type": "code",
      "metadata": {
        "colab_type": "code",
        "id": "oCSjAqPzIn1i",
        "outputId": "33265f65-8012-41b7-df00-31bde0b25a88",
        "colab": {
          "base_uri": "https://localhost:8080/",
          "height": 90
        }
      },
      "source": [
        "X_val = X_train[-10000:,:]\n",
        "y_val = y_train[-10000:]\n",
        "\n",
        "X_train = X_train[:-10000, :]\n",
        "y_train = y_train[:-10000]\n",
        "\n",
        "print('X_val.shape   =',X_val.shape)\n",
        "print('y_val.shape   =',y_val.shape)\n",
        "print('X_train.shape =',X_train.shape)\n",
        "print('y_train.shape =',y_train.shape)"
      ],
      "execution_count": 0,
      "outputs": [
        {
          "output_type": "stream",
          "text": [
            "X_val.shape   = (10000, 28, 28)\n",
            "y_val.shape   = (10000,)\n",
            "X_train.shape = (50000, 28, 28)\n",
            "y_train.shape = (50000,)\n"
          ],
          "name": "stdout"
        }
      ]
    },
    {
      "cell_type": "markdown",
      "metadata": {
        "colab_type": "text",
        "id": "4_pv-KDTb6Xn"
      },
      "source": [
        "**EXPECTED OUTPUT**\n",
        "<pre>\n",
        "X_val.shape   = (10000, 28, 28)\n",
        "y_val.shape   = (10000,)\n",
        "X_train.shape = (50000, 28, 28)\n",
        "y_train.shape = (50000,)"
      ]
    },
    {
      "cell_type": "markdown",
      "metadata": {
        "colab_type": "text",
        "id": "rQohd54TIn1x"
      },
      "source": [
        "---\n",
        "## One Hot Matrix\n",
        "\n"
      ]
    },
    {
      "cell_type": "markdown",
      "metadata": {
        "colab_type": "text",
        "id": "kveJWXJYIn14"
      },
      "source": [
        " Ubah vektor target `y_train`, `y_val`, dan `y_test` menjadi bentuk One-Hot Matrix"
      ]
    },
    {
      "cell_type": "code",
      "metadata": {
        "colab_type": "code",
        "id": "neQU8KqDIn1_",
        "colab": {}
      },
      "source": [
        "from tensorflow.keras.utils import to_categorical\n",
        "\n",
        "# ubah label menjadi one hot matrix dengan memanggil fungsi to_categorical 10 [0 0 0 0 0 0 0 0 0 0]\n",
        "# dengan mula-mula mengubah y menjadi 1 dimensi dengan fungsi ravel\n",
        "y_train_hot = ??\n",
        "y_val_hot = ??\n",
        "y_test_hot = ??\n",
        "\n",
        "print('y_train_hot.shape =',y_train_hot.shape)\n",
        "print('y_val_hot.shape   =',y_val_hot.shape)\n",
        "print('y_test_hot.shape  =',y_test_hot.shape)"
      ],
      "execution_count": 0,
      "outputs": []
    },
    {
      "cell_type": "markdown",
      "metadata": {
        "colab_type": "text",
        "id": "9gK6HlDSb0ej"
      },
      "source": [
        "**EXPECTED OUTPUT**\n",
        "<pre>\n",
        " y_train_hot.shape = (50000, 10)\n",
        " y_val_hot.shape   = (10000, 10)\n",
        " y_test_hot.shape  = (10000, 10)"
      ]
    },
    {
      "cell_type": "markdown",
      "metadata": {
        "colab_type": "text",
        "id": "J_xTz69xIn2G"
      },
      "source": [
        "contoh isi dari one hot matrix"
      ]
    },
    {
      "cell_type": "code",
      "metadata": {
        "colab_type": "code",
        "id": "Gl6iGzGgIn2I",
        "colab": {}
      },
      "source": [
        "print('         class:\\ni | y |  0 1 2 3 4 5 6 7 8 9\\n---------------------------------')\n",
        "for i in range(10):\n",
        "    print(i, '|', y_train[i], '|', y_train_hot[i,:].astype('int'))"
      ],
      "execution_count": 0,
      "outputs": []
    },
    {
      "cell_type": "markdown",
      "metadata": {
        "colab_type": "text",
        "id": "OjqzwPUJIn4n"
      },
      "source": [
        "---\n",
        "\n",
        "# Two-Layer Neural Network\n",
        "\n",
        "Berikutnya, mari kita bangun Jaringan Saraf Tiruan sedalam 2 layer untuk mengklasifikasikan dataset MNIST ini\n",
        "\n",
        "Untuk kemudahan bersama, di sini kita akan gunakan API Keras untuk membangun arsitektur hingga melatih modelnya\n",
        "\n"
      ]
    },
    {
      "cell_type": "markdown",
      "metadata": {
        "colab_type": "text",
        "id": "34l5N13yIn5O"
      },
      "source": [
        "---\n",
        "## Import Modul\n",
        "\n",
        "Untuk membangun Jaringan Saraf Tiruan sederhana, kita akan menggunakan model [`Sequential`](https://keras.io/models/sequential/) karena model hanya memiliki satu arah propagasi maju.\n",
        "\n",
        "Layer-layer yang akan kita gunakan adalah:\n",
        "* `Flatten`, untuk mengubah input data citra menjadi 1 kolom\n",
        "* `Dense`, atau layer `Affine`\n",
        "* `Activation`, untuk mendapatkan fungsi Aktivasi\n",
        "\n",
        "Daftar layer lainnya dapat dilihat di [keras layers](https://keras.io/layers/core/) atau [tf.keras layers](https://www.tensorflow.org/api_docs/python/tf/keras/layers)"
      ]
    },
    {
      "cell_type": "code",
      "metadata": {
        "colab_type": "code",
        "id": "k98ABsZD_q5w",
        "colab": {}
      },
      "source": [
        "from tensorflow.keras.models import Sequential\n",
        "from tensorflow.keras.layers import Flatten\n",
        "from tensorflow.keras.layers import Dense\n",
        "from tensorflow.keras.layers import Activation\n"
      ],
      "execution_count": 0,
      "outputs": []
    },
    {
      "cell_type": "markdown",
      "metadata": {
        "colab_type": "text",
        "id": "xorwvaALLAGH"
      },
      "source": [
        "Berikutnya, kita definisikan paramtere arsitektur sebagai berikut\n",
        "\n",
        "kita akan bangun jaringan saraf 2 layer dengan 512 neuron di hidden layer"
      ]
    },
    {
      "cell_type": "code",
      "metadata": {
        "colab_type": "code",
        "id": "LKMOAG1KIn5B",
        "colab": {}
      },
      "source": [
        "num_data    = X_train.shape[0]\n",
        "X_dim       = X_train.shape[1]\n",
        "num_classes = y_train_hot.shape[1]\n",
        "\n",
        "hidden_size = 512\n",
        "print(\"num data: \", num_data)\n",
        "print(\"x_dim: \", X_dim)\n",
        "print(\"num classes: \", num_classes)\n",
        "print(\"hidden size: \", hidden_size)"
      ],
      "execution_count": 0,
      "outputs": []
    },
    {
      "cell_type": "markdown",
      "metadata": {
        "colab_type": "text",
        "id": "wElcpSCg_q5v"
      },
      "source": [
        "---\n",
        "## Membangun Model Jaringan menggunakan Keras\n",
        "\n",
        "Keras adalah *Deep Learning* API yang dibangun sebagai *independent open source project* oleh lebih dari 700 kontributor. Selama pembangunannya hingga, Keras terus diperbarui sehingga sering terdapat perubahan di sisi teknis penulisan kode. Salah satunya adalah cara mendefinisikan model jaringan.\n"
      ]
    },
    {
      "cell_type": "markdown",
      "metadata": {
        "colab_type": "text",
        "id": "Sr6j43J3Lq9V"
      },
      "source": [
        "### Cara Pertama (OLD API)\n",
        "Cara pertama membangun model, dan salah satu cara paling tua, menggunakan Keras adalah dengan menginisialisasi objek model `Sequential`, kemudian satu per satu kita tambahkan layer yang ingin kita tumpuk sebagai berikut\n",
        "\n",
        "```python\n",
        "model = Sequential()\n",
        "model.add( nama_layer( args ) )  # layer 1\n",
        "model.add( nama_layer( args ) )  # layer 2\n",
        "...                              # dst.\n",
        "```"
      ]
    },
    {
      "cell_type": "code",
      "metadata": {
        "colab_type": "code",
        "id": "31erMNe__q51",
        "colab": {}
      },
      "source": [
        "# create model old\n",
        "model = Sequential()\n",
        "\n",
        "# tambahkan layer Flatten dengan input argumen input_shape=(28,28)\n",
        "model.add(??)\n",
        "\n",
        "# tambahkan layer Dense dengan input argumen hidden_size\n",
        "model.add(??)\n",
        "\n",
        "# tambahkan layer Activation dengan input argumen 'sigmoid'\n",
        "model.add(??)\n",
        "\n",
        "# tambahkan layer Dense dengan input argumen num_classes\n",
        "model.add(??)\n",
        "\n",
        "# tambahkan layer Activation dengan input argumen 'softmax'\n",
        "model.add(??)\n",
        "    \n",
        "  \n",
        "model.summary()"
      ],
      "execution_count": 0,
      "outputs": []
    },
    {
      "cell_type": "markdown",
      "metadata": {
        "colab_type": "text",
        "id": "XeFQspOPc6DK"
      },
      "source": [
        "**EXPECTED OUTPUT**\n",
        "<pre>\n",
        " Total params: 407,050\n",
        " Trainable params: 407,050\n",
        " Non-trainable params: 0"
      ]
    },
    {
      "cell_type": "markdown",
      "metadata": {
        "colab_type": "text",
        "id": "yiat15JzIM5u"
      },
      "source": [
        "### Cara Kedua (Compact API)\n",
        "\n",
        "Update terbaru pada API layer Keras membuat kita bisa menambahkan fungsi aktivasi langsung dari layer `Dense` tanpa menambahkan layer `Activation`. \n",
        "\n",
        "\n",
        "```python\n",
        "model = Sequential()\n",
        "model.add( nama_layer( args, activation='nama_aktivasi' ) )  # layer 1\n",
        "model.add( nama_layer( args, activation='nama_aktivasi' ) )  # layer 2\n",
        "...                                                          # dst.\n",
        "```\n",
        "\n",
        "Contohnya `Dense(512, activation=\"sigmoid\")`"
      ]
    },
    {
      "cell_type": "code",
      "metadata": {
        "colab_type": "code",
        "id": "K3oJwZl5IGmg",
        "colab": {}
      },
      "source": [
        "# create model new\n",
        "model = Sequential()\n",
        "\n",
        "# tambahkan layer Flatten dengan input argumen input_shape=(28,28)\n",
        "model.add(??)\n",
        "\n",
        "# tambahkan layer Dense dengan input argumen hidden_size dan aktivasi sigmoid\n",
        "model.add(??)\n",
        "\n",
        "# tambahkan layer Dense dengan input argumen num_classes dan aktivasi softmax\n",
        "model.add(??)\n",
        "    \n",
        "  \n",
        "model.summary()"
      ],
      "execution_count": 0,
      "outputs": []
    },
    {
      "cell_type": "markdown",
      "metadata": {
        "colab_type": "text",
        "id": "eeSXEqFpda08"
      },
      "source": [
        "**EXPECTED OUTPUT**\n",
        "<pre>\n",
        " Total params: 407,050\n",
        " Trainable params: 407,050\n",
        " Non-trainable params: 0"
      ]
    },
    {
      "cell_type": "markdown",
      "metadata": {
        "colab_type": "text",
        "id": "IZY1O_Jx_q52"
      },
      "source": [
        "### Cara Ketiga (Functional API)\n",
        "Cara ketiga membangun model adalah menggunakan Keras *functional API* yang memungkinkan kita membangun model yang lebih kompleks misalnya memiliki banyak output.\n",
        "\n",
        "Berikut adalah contoh pembangunan model adalah menggunakan Keras *functional API*\n",
        "\n",
        "```python\n",
        "tensor_input = Input( args )\n",
        "\n",
        "tensor_x = nama_layer( args ) (tensor_input)  # layer 1\n",
        "tensor_x = nama_layer( args ) (tensor_x)      # layer 2\n",
        "tensor_x = nama_layer( args ) (tensor_x)      # layer 3\n",
        "...                                           # dst.\n",
        "\n",
        "tensor_output = nama_layer( args ) (tensor_x) # layer terakhir\n",
        "\n",
        "model = Model(tensor_input, tensor_output)\n",
        "```"
      ]
    },
    {
      "cell_type": "code",
      "metadata": {
        "colab_type": "code",
        "id": "HNlMwWsI_q54",
        "colab": {}
      },
      "source": [
        "from tensorflow.keras import Model\n",
        "from tensorflow.keras.layers import Input\n",
        "\n",
        "# create model functional\n",
        "\n",
        "# tambahkan tensor Input dengan argumen shape=(28,28)\n",
        "tensor_input = ??\n",
        "\n",
        "# tambahkan layer Flatten yang menerima masukan dari tensor_input\n",
        "x = ??\n",
        "\n",
        "# tambahkan layer Dense dengan argumen hidden_size dan aktivasi sigmoid\n",
        "x = ??\n",
        "\n",
        "# tambahkan layer Dense dengan argumen num_classes dan aktivasi softmax sebagai tensor_output\n",
        "tensor_output = ??\n",
        "\n",
        "# instansiasi dengan memanggil Model dengan input tensor_input dan tensor_output\n",
        "model = ??\n",
        "\n",
        "model.summary()\n"
      ],
      "execution_count": 0,
      "outputs": []
    },
    {
      "cell_type": "markdown",
      "metadata": {
        "colab_type": "text",
        "id": "y2CdukrCe4bg"
      },
      "source": [
        "**EXPECTED OUTPUT**\n",
        "<pre>\n",
        " Total params: 407,050\n",
        " Trainable params: 407,050\n",
        " Non-trainable params: 0"
      ]
    },
    {
      "cell_type": "markdown",
      "metadata": {
        "colab_type": "text",
        "id": "n5BBi5KC_q56"
      },
      "source": [
        "### Cara Keempat (Constructor API)\n",
        "Cara keempat adalah cara baru membangun `Sequential` model. Penggunaannya seperti cara pertama dan kedua, namun kita dapat langsung mendaftarkan layer-layernya ke dalam list saat inisialisasi objek Sequential sebagai berikut\n",
        "\n",
        "\n",
        "```python\n",
        "model = Sequential([\n",
        "  nama_layer( args ),   # layer 1\n",
        "  nama_layer( args ),   # layer 2\n",
        "  ...                   # dst.\n",
        "])                         # dst.\n",
        "```"
      ]
    },
    {
      "cell_type": "code",
      "metadata": {
        "colab_type": "code",
        "id": "R0xzjgWQ_q56",
        "colab": {}
      },
      "source": [
        "# create model compact sequential\n",
        "\n",
        "model = Sequential([\n",
        "    \n",
        "    # tambahkan layer Flatten dengan input argumen input_shape=(28,28)\n",
        "    ??\n",
        "    \n",
        "    # tambahkan layer Dense dengan input argumen hidden_size dan aktivasi sigmoid\n",
        "    ??\n",
        "    \n",
        "    # tambahkan layer Dense dengan input argumen num_classes dan aktivasi softmax\n",
        "    ??\n",
        "    \n",
        "])\n",
        "\n",
        "\n",
        "model.summary()"
      ],
      "execution_count": 0,
      "outputs": []
    },
    {
      "cell_type": "markdown",
      "metadata": {
        "colab_type": "text",
        "id": "A-H6BoI9fB19"
      },
      "source": [
        "**EXPECTED OUTPUT**\n",
        "<pre>\n",
        " Total params: 407,050\n",
        " Trainable params: 407,050\n",
        " Non-trainable params: 0"
      ]
    },
    {
      "cell_type": "markdown",
      "metadata": {
        "colab_type": "text",
        "id": "TJrNchsf_q58"
      },
      "source": [
        "Keempat model di atas adalah model yang sama. Bisa dilihat dari summary arsitektur kegianya. Sekarang, pilih salah satu model untuk kita compile dengan fungsi *loss* dan metode optimasi. "
      ]
    },
    {
      "cell_type": "markdown",
      "metadata": {
        "colab_type": "text",
        "id": "VnbdwDn0In5R"
      },
      "source": [
        "---\n",
        "## Compile Model\n",
        "\n",
        "Di sini kita harus mengkompile model dengan mendaftarkan fungsi loss dan fungsi optimasinya\n",
        "\n",
        "### Fungsi Loss\n",
        "terdapat berbagai jenis fungsi loss untuk bermacam kasus seperti \n",
        "* `categorical crossentropy` untuk klasifikasi multi kelas\n",
        "* `binary crossentropy` untuk klasifikasi biner\n",
        "* `mean squared error` untuk regresi\n",
        "* dan banyak lainnya\n",
        "\n",
        "lihat [keras losses](https://keras.io/losses/) atau [tf.keras losses](https://www.tensorflow.org/api_docs/python/tf/keras/losses) untuk lebih lanjut\n",
        "\n",
        "\n",
        "### Fungsi Optimasi\n",
        "Juga terdapat berbagai jenis fungsi optimasi seperti\n",
        "* `sgd` untuk standar `stochastic gradient descent` dan `nesterov`\n",
        "* `rmsprop` sebagai perkembangan dari `sgd`\n",
        "* `adam` sebagai fungsi optimasi standar saat ini\n",
        "* dan banyak lainnya\n",
        "\n",
        "lihat [keras optimizers](https://keras.io/optimizers/) atau [tf.keras optimizers](https://www.tensorflow.org/api_docs/python/tf/keras/optimizers) untuk lebih lanjut\n",
        "\n",
        "### Metrics\n",
        "kita juga bisa menambahkan metric tambahan untuk melihat performa model selama pelatihan seperti metrik akurasi"
      ]
    },
    {
      "cell_type": "code",
      "metadata": {
        "colab_type": "code",
        "id": "LPnszjanIn5R",
        "colab": {}
      },
      "source": [
        "# Compile model\n",
        "model.compile(\n",
        "    loss=??,     \n",
        "    optimizer=??,\n",
        "    metrics=['accuracy']\n",
        ")\n"
      ],
      "execution_count": 0,
      "outputs": []
    },
    {
      "cell_type": "markdown",
      "metadata": {
        "colab_type": "text",
        "id": "pmDso_8jIn5V"
      },
      "source": [
        "---\n",
        "## Melatih Model\n",
        "\n",
        "Sekarang kita bisa melatih model dengan memanggil fungsi `fit`\n",
        "\n",
        "Kita jalankan proses pelatihan untuk `epoch=15` dengan `batch size=100`"
      ]
    },
    {
      "cell_type": "code",
      "metadata": {
        "colab_type": "code",
        "id": "lR9WhzsFIn5V",
        "colab": {}
      },
      "source": [
        "num_epochs = ??\n",
        "batch_size = ??\n",
        "\n",
        "model.fit(X_train, y_train_hot, \n",
        "          validation_data=(X_val, y_val_hot),\n",
        "          epochs=num_epochs, batch_size=batch_size, \n",
        "          verbose=2)"
      ],
      "execution_count": 0,
      "outputs": []
    },
    {
      "cell_type": "markdown",
      "metadata": {
        "colab_type": "text",
        "id": "3ibLtwIAIn5V"
      },
      "source": [
        "---\n",
        "## Evaluasi Model\n",
        "Berikutnya mari kita evaluasi akurasi dari model yang sudah dilatih\n",
        "\n",
        "harusnya kita akan mendapatkan akurasi di atas `91%`"
      ]
    },
    {
      "cell_type": "code",
      "metadata": {
        "colab_type": "code",
        "id": "VTD6WFU2In5W",
        "colab": {}
      },
      "source": [
        "scores = model.evaluate(X_test, y_test_hot, verbose=1)\n",
        "print(\"\\nModel Accuracy: %.2f%%\" % (scores[1]*100))"
      ],
      "execution_count": 0,
      "outputs": []
    },
    {
      "cell_type": "markdown",
      "metadata": {
        "colab_type": "text",
        "id": "RSOdNkm_In4B"
      },
      "source": [
        "---\n",
        "# Pengujian Data Baru\n",
        "\n",
        "Sekarang mari kita coba model yang sudah kita latih terhadap data baru\n",
        "\n",
        "Mari kita gunakan data test yang sudah ada"
      ]
    },
    {
      "cell_type": "code",
      "metadata": {
        "id": "Plyz3BB0rEYj",
        "colab_type": "code",
        "colab": {}
      },
      "source": [
        "predictions = model.predict(X_test)"
      ],
      "execution_count": 0,
      "outputs": []
    },
    {
      "cell_type": "markdown",
      "metadata": {
        "id": "_ixAIhCMrWSf",
        "colab_type": "text"
      },
      "source": [
        "Kita tampilkan hasil 20 gambar pertama beserta hasil prediksinya"
      ]
    },
    {
      "cell_type": "code",
      "metadata": {
        "id": "CiQTwcR4ray7",
        "colab_type": "code",
        "colab": {}
      },
      "source": [
        "fig, ax = plt.subplots(2,10,figsize=(15,4.5))\n",
        "fig.subplots_adjust(hspace=0.1, wspace=0.1)\n",
        "for j in range(0,2):\n",
        "    for i in range(0, 10):\n",
        "        ax[j,i].imshow(X_test[i+j*10], cmap='gray')\n",
        "        ax[j,i].set_title(np.argmax(predictions[i+j*10]))\n",
        "        ax[j,i].axis('off')\n",
        "plt.show()"
      ],
      "execution_count": 0,
      "outputs": []
    },
    {
      "cell_type": "markdown",
      "metadata": {
        "colab_type": "text",
        "id": "U9SEiqSuIn4I"
      },
      "source": [
        "## Fungsi Menggambar pada Canvas\n",
        "kita akan bangun fungsi untuk bisa menggambar di Google Colab ini dan memasukkan input gambar baru ke model\n",
        "\n",
        "\n",
        "Jalankan cell di bawah untuk membangun fungsi menggambar"
      ]
    },
    {
      "cell_type": "code",
      "metadata": {
        "colab_type": "code",
        "id": "h8A9d-_-Psxi",
        "colab": {}
      },
      "source": [
        "from IPython.display import HTML, Image\n",
        "from google.colab.output import eval_js\n",
        "from base64 import b64decode\n",
        "\n",
        "canvas_html = \"\"\"\n",
        "<canvas width=%d height=%d style=\"border:1px solid #000000;\"></canvas>\n",
        "<button>Finish</button>\n",
        "<script>\n",
        "var canvas = document.querySelector('canvas')\n",
        "var ctx = canvas.getContext('2d')\n",
        "ctx.lineWidth = %d\n",
        "var button = document.querySelector('button')\n",
        "var mouse = {x: 0, y: 0}\n",
        "canvas.addEventListener('mousemove', function(e) {\n",
        "  mouse.x = e.pageX - this.offsetLeft\n",
        "  mouse.y = e.pageY - this.offsetTop\n",
        "})\n",
        "canvas.onmousedown = ()=>{\n",
        "  ctx.beginPath()\n",
        "  ctx.moveTo(mouse.x, mouse.y)\n",
        "  canvas.addEventListener('mousemove', onPaint)\n",
        "}\n",
        "canvas.onmouseup = ()=>{\n",
        "  canvas.removeEventListener('mousemove', onPaint)\n",
        "}\n",
        "var onPaint = ()=>{\n",
        "  ctx.lineTo(mouse.x, mouse.y)\n",
        "  ctx.stroke()\n",
        "}\n",
        "var data = new Promise(resolve=>{\n",
        "  button.onclick = ()=>{\n",
        "    resolve(canvas.toDataURL('image/png'))\n",
        "  }\n",
        "})\n",
        "</script>\n",
        "\"\"\"\n",
        "\n",
        "def draw(filename='drawing.jpg', w=300, h=300, line_width=30):\n",
        "  display(HTML(canvas_html % (w, h, line_width)))\n",
        "  data = eval_js(\"data\")\n",
        "  binary = b64decode(data.split(',')[1])\n",
        "  with open(filename, 'wb') as f:\n",
        "    f.write(binary)\n",
        "  print('gambar baru diterima')"
      ],
      "execution_count": 0,
      "outputs": []
    },
    {
      "cell_type": "markdown",
      "metadata": {
        "colab_type": "text",
        "id": "KNY6fN3rO1tq"
      },
      "source": [
        "---\n",
        "## Input Gambar Baru\n",
        "Sekarang, jalankan cell di bawah, lalu coba gambar (tuliskan) input angka baru\n",
        "\n",
        "setelah selesai, klik tombol `Finish`\n",
        "\n",
        "usahakan gambar angka cukup besar, namun tidak menyentuh garis tepi"
      ]
    },
    {
      "cell_type": "code",
      "metadata": {
        "colab_type": "code",
        "id": "Yuoa-o-iPuu0",
        "colab": {}
      },
      "source": [
        "draw()"
      ],
      "execution_count": 0,
      "outputs": []
    },
    {
      "cell_type": "markdown",
      "metadata": {
        "colab_type": "text",
        "id": "lAYfRaTTPQHL"
      },
      "source": [
        "---\n",
        "## Resize Data\n",
        "Sekarang, ubah data menjadi Grayscale, dan resize data menjadi ukuran yang sama dengan data latih, yaitu `28x28`"
      ]
    },
    {
      "cell_type": "code",
      "metadata": {
        "colab_type": "code",
        "id": "LhRUopEnP5Z0",
        "colab": {}
      },
      "source": [
        "from PIL import Image\n",
        "import cv2 as cv\n",
        "\n",
        "new_img = Image.open('drawing.jpg')\n",
        "new_img = np.array(new_img)[:,:,3]\n",
        "print('ukuran awal = ',new_img.shape)\n",
        "\n",
        "new_img2 = cv.resize(new_img, (28, 28),interpolation = cv.INTER_AREA) \n",
        "print('ukuran baru = ',new_img2.shape)\n",
        "\n",
        "plt.imshow(new_img2, cmap='gray')\n",
        "plt.show()"
      ],
      "execution_count": 0,
      "outputs": []
    },
    {
      "cell_type": "markdown",
      "metadata": {
        "id": "yVGVF1J6po7w",
        "colab_type": "text"
      },
      "source": [
        ""
      ]
    },
    {
      "cell_type": "markdown",
      "metadata": {
        "colab_type": "text",
        "id": "6sYxS6yBQDxB"
      },
      "source": [
        "## Prediksi Data\n",
        "\n",
        "Sekarang kita tinggal memprediksi data baru tersebut\n",
        "\n",
        "Coba lihat, apakah model sudah pintar\n",
        "\n",
        "jika belum, lanjutkan proses pelatihan dengan menjalankan cell yang memanggil fungsi `fit`"
      ]
    },
    {
      "cell_type": "code",
      "metadata": {
        "colab_type": "code",
        "id": "EJNH_1OOUfNZ",
        "colab": {}
      },
      "source": [
        "y_pred = model.predict(new_img2.reshape((1,28,28)))\n",
        "\n",
        "print(\"Prediksi data baru: y = \" + str(np.argmax(y_pred)))"
      ],
      "execution_count": 0,
      "outputs": []
    }
  ]
}